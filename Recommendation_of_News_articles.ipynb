{
  "nbformat": 4,
  "nbformat_minor": 0,
  "metadata": {
    "kernelspec": {
      "display_name": "Python 3",
      "language": "python",
      "name": "python3"
    },
    "language_info": {
      "codemirror_mode": {
        "name": "ipython",
        "version": 3
      },
      "file_extension": ".py",
      "mimetype": "text/x-python",
      "name": "python",
      "nbconvert_exporter": "python",
      "pygments_lexer": "ipython3",
      "version": "3.7.6"
    },
    "colab": {
      "name": "Recommendation of News articles.ipynb",
      "provenance": []
    }
  },
  "cells": [
    {
      "cell_type": "code",
      "metadata": {
        "id": "Lyq-vnQMLsvk",
        "outputId": "743723d5-f2ff-457a-d641-4b9f27ea38ff",
        "colab": {
          "base_uri": "https://localhost:8080/",
          "height": 34
        }
      },
      "source": [
        "from google.colab import drive\n",
        "drive.mount('/content/drive')"
      ],
      "execution_count": null,
      "outputs": [
        {
          "output_type": "stream",
          "text": [
            "Drive already mounted at /content/drive; to attempt to forcibly remount, call drive.mount(\"/content/drive\", force_remount=True).\n"
          ],
          "name": "stdout"
        }
      ]
    },
    {
      "cell_type": "code",
      "metadata": {
        "id": "3k9Lk61QKNbk"
      },
      "source": [
        "import numpy as np\n",
        "import pandas as pd\n",
        "\n",
        "import os\n",
        "import math\n",
        "import time\n",
        "\n",
        "import matplotlib.pyplot as plt\n",
        "import seaborn as sns\n",
        "\n",
        "\n",
        "from nltk.corpus import stopwords\n",
        "from nltk.tokenize import word_tokenize\n",
        "from nltk.stem import WordNetLemmatizer\n",
        "\n",
        "from sklearn.feature_extraction.text import CountVectorizer\n",
        "from sklearn.feature_extraction.text import TfidfVectorizer\n",
        "\n",
        "from sklearn.metrics.pairwise import cosine_similarity  \n",
        "from sklearn.metrics import pairwise_distances"
      ],
      "execution_count": null,
      "outputs": []
    },
    {
      "cell_type": "code",
      "metadata": {
        "id": "tA0sYbh2KNbp"
      },
      "source": [
        "dataset = pd.read_json(\"/content/drive/My Drive/newsdataset.json\",lines = True)"
      ],
      "execution_count": null,
      "outputs": []
    },
    {
      "cell_type": "code",
      "metadata": {
        "id": "A5MRtcUoKNbt",
        "outputId": "d77ae7d2-3e7b-4ce5-c3b8-e71c163d2d2e",
        "colab": {
          "base_uri": "https://localhost:8080/",
          "height": 235
        }
      },
      "source": [
        "dataset.info()"
      ],
      "execution_count": null,
      "outputs": [
        {
          "output_type": "stream",
          "text": [
            "<class 'pandas.core.frame.DataFrame'>\n",
            "RangeIndex: 200853 entries, 0 to 200852\n",
            "Data columns (total 6 columns):\n",
            " #   Column             Non-Null Count   Dtype         \n",
            "---  ------             --------------   -----         \n",
            " 0   category           200853 non-null  object        \n",
            " 1   headline           200853 non-null  object        \n",
            " 2   authors            200853 non-null  object        \n",
            " 3   link               200853 non-null  object        \n",
            " 4   short_description  200853 non-null  object        \n",
            " 5   date               200853 non-null  datetime64[ns]\n",
            "dtypes: datetime64[ns](1), object(5)\n",
            "memory usage: 9.2+ MB\n"
          ],
          "name": "stdout"
        }
      ]
    },
    {
      "cell_type": "code",
      "metadata": {
        "id": "bqrX0d7AKNbx",
        "outputId": "66136744-c2bb-4481-8a95-ee0c6beac644",
        "colab": {
          "base_uri": "https://localhost:8080/",
          "height": 279
        }
      },
      "source": [
        "dataset.head()"
      ],
      "execution_count": null,
      "outputs": [
        {
          "output_type": "execute_result",
          "data": {
            "text/html": [
              "<div>\n",
              "<style scoped>\n",
              "    .dataframe tbody tr th:only-of-type {\n",
              "        vertical-align: middle;\n",
              "    }\n",
              "\n",
              "    .dataframe tbody tr th {\n",
              "        vertical-align: top;\n",
              "    }\n",
              "\n",
              "    .dataframe thead th {\n",
              "        text-align: right;\n",
              "    }\n",
              "</style>\n",
              "<table border=\"1\" class=\"dataframe\">\n",
              "  <thead>\n",
              "    <tr style=\"text-align: right;\">\n",
              "      <th></th>\n",
              "      <th>category</th>\n",
              "      <th>headline</th>\n",
              "      <th>authors</th>\n",
              "      <th>link</th>\n",
              "      <th>short_description</th>\n",
              "      <th>date</th>\n",
              "    </tr>\n",
              "  </thead>\n",
              "  <tbody>\n",
              "    <tr>\n",
              "      <th>0</th>\n",
              "      <td>CRIME</td>\n",
              "      <td>There Were 2 Mass Shootings In Texas Last Week, But Only 1 On TV</td>\n",
              "      <td>Melissa Jeltsen</td>\n",
              "      <td>https://www.huffingtonpost.com/entry/texas-amanda-painter-mass-shooting_us_5b081ab4e4b0802d69caad89</td>\n",
              "      <td>She left her husband. He killed their children. Just another day in America.</td>\n",
              "      <td>2018-05-26</td>\n",
              "    </tr>\n",
              "    <tr>\n",
              "      <th>1</th>\n",
              "      <td>ENTERTAINMENT</td>\n",
              "      <td>Will Smith Joins Diplo And Nicky Jam For The 2018 World Cup's Official Song</td>\n",
              "      <td>Andy McDonald</td>\n",
              "      <td>https://www.huffingtonpost.com/entry/will-smith-joins-diplo-and-nicky-jam-for-the-official-2018-world-cup-song_us_5b09726fe4b0fdb2aa541201</td>\n",
              "      <td>Of course it has a song.</td>\n",
              "      <td>2018-05-26</td>\n",
              "    </tr>\n",
              "    <tr>\n",
              "      <th>2</th>\n",
              "      <td>ENTERTAINMENT</td>\n",
              "      <td>Hugh Grant Marries For The First Time At Age 57</td>\n",
              "      <td>Ron Dicker</td>\n",
              "      <td>https://www.huffingtonpost.com/entry/hugh-grant-marries_us_5b09212ce4b0568a880b9a8c</td>\n",
              "      <td>The actor and his longtime girlfriend Anna Eberstein tied the knot in a civil ceremony.</td>\n",
              "      <td>2018-05-26</td>\n",
              "    </tr>\n",
              "    <tr>\n",
              "      <th>3</th>\n",
              "      <td>ENTERTAINMENT</td>\n",
              "      <td>Jim Carrey Blasts 'Castrato' Adam Schiff And Democrats In New Artwork</td>\n",
              "      <td>Ron Dicker</td>\n",
              "      <td>https://www.huffingtonpost.com/entry/jim-carrey-adam-schiff-democrats_us_5b0950e8e4b0fdb2aa53e675</td>\n",
              "      <td>The actor gives Dems an ass-kicking for not fighting hard enough against Donald Trump.</td>\n",
              "      <td>2018-05-26</td>\n",
              "    </tr>\n",
              "    <tr>\n",
              "      <th>4</th>\n",
              "      <td>ENTERTAINMENT</td>\n",
              "      <td>Julianna Margulies Uses Donald Trump Poop Bags To Pick Up After Her Dog</td>\n",
              "      <td>Ron Dicker</td>\n",
              "      <td>https://www.huffingtonpost.com/entry/julianna-margulies-trump-poop-bag_us_5b093ec2e4b0fdb2aa53df70</td>\n",
              "      <td>The \"Dietland\" actress said using the bags is a \"really cathartic, therapeutic moment.\"</td>\n",
              "      <td>2018-05-26</td>\n",
              "    </tr>\n",
              "  </tbody>\n",
              "</table>\n",
              "</div>"
            ],
            "text/plain": [
              "        category  ...       date\n",
              "0          CRIME  ... 2018-05-26\n",
              "1  ENTERTAINMENT  ... 2018-05-26\n",
              "2  ENTERTAINMENT  ... 2018-05-26\n",
              "3  ENTERTAINMENT  ... 2018-05-26\n",
              "4  ENTERTAINMENT  ... 2018-05-26\n",
              "\n",
              "[5 rows x 6 columns]"
            ]
          },
          "metadata": {
            "tags": []
          },
          "execution_count": 37
        }
      ]
    },
    {
      "cell_type": "code",
      "metadata": {
        "id": "IenLuvSnKNb1",
        "outputId": "fe8901e7-d01c-4c91-ffef-3a058f638288",
        "colab": {
          "base_uri": "https://localhost:8080/",
          "height": 34
        }
      },
      "source": [
        "dataset = dataset[dataset['headline'].apply(lambda x:len(x.split())>5)]\n",
        "print(dataset.shape[0])"
      ],
      "execution_count": null,
      "outputs": [
        {
          "output_type": "stream",
          "text": [
            "180543\n"
          ],
          "name": "stdout"
        }
      ]
    },
    {
      "cell_type": "code",
      "metadata": {
        "id": "IH8A_AXsKNb4"
      },
      "source": [
        "dataset  = dataset[dataset['date']>=pd.Timestamp(2018,1,1)]"
      ],
      "execution_count": null,
      "outputs": []
    },
    {
      "cell_type": "code",
      "metadata": {
        "id": "WiU1CoqWKNb7",
        "outputId": "3f6055b2-39c4-4175-f835-283cfa1e92ab",
        "colab": {
          "base_uri": "https://localhost:8080/",
          "height": 34
        }
      },
      "source": [
        "print(dataset.shape[0])"
      ],
      "execution_count": null,
      "outputs": [
        {
          "output_type": "stream",
          "text": [
            "8530\n"
          ],
          "name": "stdout"
        }
      ]
    },
    {
      "cell_type": "code",
      "metadata": {
        "id": "PFligsxKKNb_",
        "outputId": "2768ee8c-b1b4-4203-9af6-61bd77273dcc",
        "colab": {
          "base_uri": "https://localhost:8080/",
          "height": 34
        }
      },
      "source": [
        "dataset.sort_values('headline',inplace=True,ascending=False)\n",
        "dups = dataset.duplicated('headline',keep = False)\n",
        "dataset = dataset[~dups]\n",
        "print(dataset.shape[0])"
      ],
      "execution_count": null,
      "outputs": [
        {
          "output_type": "stream",
          "text": [
            "8485\n"
          ],
          "name": "stdout"
        }
      ]
    },
    {
      "cell_type": "code",
      "metadata": {
        "id": "phIKRAHmKNcC",
        "outputId": "3672a830-1f11-4a5d-e5b2-4bce915322df",
        "colab": {
          "base_uri": "https://localhost:8080/",
          "height": 134
        }
      },
      "source": [
        "dataset.isna().sum()"
      ],
      "execution_count": null,
      "outputs": [
        {
          "output_type": "execute_result",
          "data": {
            "text/plain": [
              "category             0\n",
              "headline             0\n",
              "authors              0\n",
              "link                 0\n",
              "short_description    0\n",
              "date                 0\n",
              "dtype: int64"
            ]
          },
          "metadata": {
            "tags": []
          },
          "execution_count": 42
        }
      ]
    },
    {
      "cell_type": "code",
      "metadata": {
        "id": "t_KU7ZzHKNcF",
        "outputId": "c32e521d-b501-49b8-ca6e-2478f570c7c2",
        "colab": {
          "base_uri": "https://localhost:8080/",
          "height": 34
        }
      },
      "source": [
        "print(dataset['category'].nunique())"
      ],
      "execution_count": null,
      "outputs": [
        {
          "output_type": "stream",
          "text": [
            "26\n"
          ],
          "name": "stdout"
        }
      ]
    },
    {
      "cell_type": "code",
      "metadata": {
        "id": "MI2U_ItmKNcI",
        "outputId": "5e7f3601-e239-4c66-b4eb-dce99e202344",
        "colab": {
          "base_uri": "https://localhost:8080/",
          "height": 504
        }
      },
      "source": [
        "categories = dataset.groupby('category')\n",
        "print('total categories: {}'.format(categories.ngroups))\n",
        "print(categories.size())"
      ],
      "execution_count": null,
      "outputs": [
        {
          "output_type": "stream",
          "text": [
            "total categories: 26\n",
            "category\n",
            "ARTS & CULTURE      13\n",
            "BLACK VOICES       406\n",
            "BUSINESS            85\n",
            "COLLEGE              1\n",
            "COMEDY             443\n",
            "CRIME              170\n",
            "EDUCATION           31\n",
            "ENTERTAINMENT     1699\n",
            "GREEN               28\n",
            "HEALTHY LIVING      15\n",
            "IMPACT              73\n",
            "LATINO VOICES       83\n",
            "MEDIA              290\n",
            "PARENTS             32\n",
            "POLITICS          3042\n",
            "QUEER VOICES       451\n",
            "RELIGION            63\n",
            "SCIENCE             40\n",
            "SPORTS             364\n",
            "STYLE               34\n",
            "TASTE                9\n",
            "TECH                53\n",
            "TRAVEL              72\n",
            "WEIRD NEWS         205\n",
            "WOMEN              226\n",
            "WORLD NEWS         557\n",
            "dtype: int64\n"
          ],
          "name": "stdout"
        }
      ]
    },
    {
      "cell_type": "code",
      "metadata": {
        "id": "GJIT7w0RKNcL"
      },
      "source": [
        "dataset.index = range(dataset.shape[0])"
      ],
      "execution_count": null,
      "outputs": []
    },
    {
      "cell_type": "code",
      "metadata": {
        "id": "8fjNjp-NKNcO"
      },
      "source": [
        "dataset[\"day and month\"] = dataset[\"date\"].dt.strftime(\"%a\") + \"_\" + dataset[\"date\"].dt.strftime(\"%b\")"
      ],
      "execution_count": null,
      "outputs": []
    },
    {
      "cell_type": "code",
      "metadata": {
        "id": "x5vGwNLMKNcR"
      },
      "source": [
        "dataset_cp = dataset.copy()"
      ],
      "execution_count": null,
      "outputs": []
    },
    {
      "cell_type": "code",
      "metadata": {
        "id": "-ChZo1h-KNcW",
        "outputId": "32460466-0f09-4085-f194-cdbb25eda62c",
        "colab": {
          "base_uri": "https://localhost:8080/",
          "height": 50
        }
      },
      "source": [
        "import nltk\n",
        "nltk.download('stopwords')\n",
        "stop = stopwords.words('english')"
      ],
      "execution_count": null,
      "outputs": [
        {
          "output_type": "stream",
          "text": [
            "[nltk_data] Downloading package stopwords to /root/nltk_data...\n",
            "[nltk_data]   Package stopwords is already up-to-date!\n"
          ],
          "name": "stdout"
        }
      ]
    },
    {
      "cell_type": "code",
      "metadata": {
        "id": "AwD8yHCiKNcY",
        "outputId": "d3ec48c2-b2f4-4171-8020-09648eab1a61",
        "colab": {
          "base_uri": "https://localhost:8080/",
          "height": 168
        }
      },
      "source": [
        "for i in range(len(dataset_cp[\"headline\"])):\n",
        "    string = \"\"\n",
        "    for word in dataset_cp[\"headline\"][i].split():\n",
        "        ss = (\"\".join(e for e in word if e.isalnum()))\n",
        "        ss = ss.lower()\n",
        "        if not ss in stop:\n",
        "          string += ss + \" \"  \n",
        "    if(i%1000==0):\n",
        "      print(i)           # To track number of records processed\n",
        "    dataset_cp.at[i,\"headline\"] = string.strip()"
      ],
      "execution_count": null,
      "outputs": [
        {
          "output_type": "stream",
          "text": [
            "0\n",
            "1000\n",
            "2000\n",
            "3000\n",
            "4000\n",
            "5000\n",
            "6000\n",
            "7000\n",
            "8000\n"
          ],
          "name": "stdout"
        }
      ]
    },
    {
      "cell_type": "code",
      "metadata": {
        "id": "qAaw-gikKNcb",
        "outputId": "f763473d-f5a4-4d01-a9e0-059ca8be64b3",
        "colab": {
          "base_uri": "https://localhost:8080/",
          "height": 363
        }
      },
      "source": [
        "dataset_cp.head()"
      ],
      "execution_count": null,
      "outputs": [
        {
          "output_type": "execute_result",
          "data": {
            "text/html": [
              "<div>\n",
              "<style scoped>\n",
              "    .dataframe tbody tr th:only-of-type {\n",
              "        vertical-align: middle;\n",
              "    }\n",
              "\n",
              "    .dataframe tbody tr th {\n",
              "        vertical-align: top;\n",
              "    }\n",
              "\n",
              "    .dataframe thead th {\n",
              "        text-align: right;\n",
              "    }\n",
              "</style>\n",
              "<table border=\"1\" class=\"dataframe\">\n",
              "  <thead>\n",
              "    <tr style=\"text-align: right;\">\n",
              "      <th></th>\n",
              "      <th>category</th>\n",
              "      <th>headline</th>\n",
              "      <th>authors</th>\n",
              "      <th>link</th>\n",
              "      <th>short_description</th>\n",
              "      <th>date</th>\n",
              "      <th>day and month</th>\n",
              "    </tr>\n",
              "  </thead>\n",
              "  <tbody>\n",
              "    <tr>\n",
              "      <th>0</th>\n",
              "      <td>QUEER VOICES</td>\n",
              "      <td>grace creator donate gay bunny book every grade school indiana</td>\n",
              "      <td>Elyse Wanshel</td>\n",
              "      <td>https://www.huffingtonpost.com/entry/will-grace-creator-donate-john-olivers-gay-bunny-book-to-every-elementary-school-in-indiana_us_5ac28265e4b00fa46f854225</td>\n",
              "      <td>It's about to be a lot easier for kids in Mike Pence's home state to read “A Day in the Life of Marlon Bundo.”</td>\n",
              "      <td>2018-04-02</td>\n",
              "      <td>Mon_Apr</td>\n",
              "    </tr>\n",
              "    <tr>\n",
              "      <th>1</th>\n",
              "      <td>QUEER VOICES</td>\n",
              "      <td>voice blind auditions make history first trans contestant</td>\n",
              "      <td>Lyndsey Parker, Yahoo Entertainment</td>\n",
              "      <td>https://www.huffingtonpost.com/entry/the-voice-blind-auditions-make-history-with-first-trans-contestant_us_5a9ece6ee4b002df2c5e39c2</td>\n",
              "      <td>Austin Giorgio, 21: “How Sweet It Is (To Be Loved by You)” Young crooners have appeared on singing competitions since “American</td>\n",
              "      <td>2018-03-06</td>\n",
              "      <td>Tue_Mar</td>\n",
              "    </tr>\n",
              "    <tr>\n",
              "      <th>2</th>\n",
              "      <td>QUEER VOICES</td>\n",
              "      <td>penumbra queer audio drama didnt know needed</td>\n",
              "      <td>Sarah Emily Baum, ContributorFreelance Writer</td>\n",
              "      <td>https://www.huffingtonpost.com/entry/the-penumbra-is-the-queer-audio-drama-you-didnt_us_5a48f900e4b0df0de8b06b29</td>\n",
              "      <td>Young, fun, fantastical and, most notably, inclusive, the show is a must-listen for young queer people.</td>\n",
              "      <td>2018-01-05</td>\n",
              "      <td>Fri_Jan</td>\n",
              "    </tr>\n",
              "    <tr>\n",
              "      <th>3</th>\n",
              "      <td>COMEDY</td>\n",
              "      <td>opposition gives trump hot lawyer</td>\n",
              "      <td>Ed Mazza</td>\n",
              "      <td>https://www.huffingtonpost.com/entry/trump-hot-lawyer_us_5af5381ee4b0e57cd9f7fe84</td>\n",
              "      <td>He's here to make a \"strong case\" for the president.</td>\n",
              "      <td>2018-05-11</td>\n",
              "      <td>Fri_May</td>\n",
              "    </tr>\n",
              "    <tr>\n",
              "      <th>4</th>\n",
              "      <td>ENTERTAINMENT</td>\n",
              "      <td>stranger things fans able visit upside irl</td>\n",
              "      <td>Elyse Wanshel</td>\n",
              "      <td>https://www.huffingtonpost.com/entry/stranger-things-fans-will-be-able-to-visit-the-upside-down-irl_us_5ac3e3a6e4b063ce2e56c26a</td>\n",
              "      <td>Hawkins is headed to Hollywood, Orlando and Singapore this fall.</td>\n",
              "      <td>2018-04-03</td>\n",
              "      <td>Tue_Apr</td>\n",
              "    </tr>\n",
              "  </tbody>\n",
              "</table>\n",
              "</div>"
            ],
            "text/plain": [
              "        category  ... day and month\n",
              "0   QUEER VOICES  ...       Mon_Apr\n",
              "1   QUEER VOICES  ...       Tue_Mar\n",
              "2   QUEER VOICES  ...       Fri_Jan\n",
              "3         COMEDY  ...       Fri_May\n",
              "4  ENTERTAINMENT  ...       Tue_Apr\n",
              "\n",
              "[5 rows x 7 columns]"
            ]
          },
          "metadata": {
            "tags": []
          },
          "execution_count": 50
        }
      ]
    },
    {
      "cell_type": "code",
      "metadata": {
        "id": "Qu5A892pKNce",
        "outputId": "9a4e61f6-44af-4b17-a3b8-0b4c5561ceae",
        "colab": {
          "base_uri": "https://localhost:8080/",
          "height": 101
        }
      },
      "source": [
        "lemmatizer = WordNetLemmatizer()\n",
        "import nltk\n",
        "nltk.download('punkt')\n",
        "nltk.download('wordnet')\n",
        " "
      ],
      "execution_count": null,
      "outputs": [
        {
          "output_type": "stream",
          "text": [
            "[nltk_data] Downloading package punkt to /root/nltk_data...\n",
            "[nltk_data]   Package punkt is already up-to-date!\n",
            "[nltk_data] Downloading package wordnet to /root/nltk_data...\n",
            "[nltk_data]   Package wordnet is already up-to-date!\n"
          ],
          "name": "stdout"
        },
        {
          "output_type": "execute_result",
          "data": {
            "text/plain": [
              "True"
            ]
          },
          "metadata": {
            "tags": []
          },
          "execution_count": 51
        }
      ]
    },
    {
      "cell_type": "code",
      "metadata": {
        "id": "yu2hYdd6KNci"
      },
      "source": [
        "for i in range(len(dataset_cp['headline'])):\n",
        "    string = \"\"\n",
        "    for w in word_tokenize(dataset_cp['headline'][i]):\n",
        "        string += lemmatizer.lemmatize(w,pos='v') + \" \"\n",
        "    dataset_cp.at[i,'headline'] = string.strip()\n",
        "    "
      ],
      "execution_count": null,
      "outputs": []
    },
    {
      "cell_type": "code",
      "metadata": {
        "id": "aRsIf7KZKNcl",
        "outputId": "4f1f9222-2470-4e92-a1f0-7526487dd9b4",
        "colab": {
          "base_uri": "https://localhost:8080/",
          "height": 363
        }
      },
      "source": [
        "dataset_cp.head()"
      ],
      "execution_count": null,
      "outputs": [
        {
          "output_type": "execute_result",
          "data": {
            "text/html": [
              "<div>\n",
              "<style scoped>\n",
              "    .dataframe tbody tr th:only-of-type {\n",
              "        vertical-align: middle;\n",
              "    }\n",
              "\n",
              "    .dataframe tbody tr th {\n",
              "        vertical-align: top;\n",
              "    }\n",
              "\n",
              "    .dataframe thead th {\n",
              "        text-align: right;\n",
              "    }\n",
              "</style>\n",
              "<table border=\"1\" class=\"dataframe\">\n",
              "  <thead>\n",
              "    <tr style=\"text-align: right;\">\n",
              "      <th></th>\n",
              "      <th>category</th>\n",
              "      <th>headline</th>\n",
              "      <th>authors</th>\n",
              "      <th>link</th>\n",
              "      <th>short_description</th>\n",
              "      <th>date</th>\n",
              "      <th>day and month</th>\n",
              "    </tr>\n",
              "  </thead>\n",
              "  <tbody>\n",
              "    <tr>\n",
              "      <th>0</th>\n",
              "      <td>QUEER VOICES</td>\n",
              "      <td>grace creator donate gay bunny book every grade school indiana</td>\n",
              "      <td>Elyse Wanshel</td>\n",
              "      <td>https://www.huffingtonpost.com/entry/will-grace-creator-donate-john-olivers-gay-bunny-book-to-every-elementary-school-in-indiana_us_5ac28265e4b00fa46f854225</td>\n",
              "      <td>It's about to be a lot easier for kids in Mike Pence's home state to read “A Day in the Life of Marlon Bundo.”</td>\n",
              "      <td>2018-04-02</td>\n",
              "      <td>Mon_Apr</td>\n",
              "    </tr>\n",
              "    <tr>\n",
              "      <th>1</th>\n",
              "      <td>QUEER VOICES</td>\n",
              "      <td>voice blind audition make history first trans contestant</td>\n",
              "      <td>Lyndsey Parker, Yahoo Entertainment</td>\n",
              "      <td>https://www.huffingtonpost.com/entry/the-voice-blind-auditions-make-history-with-first-trans-contestant_us_5a9ece6ee4b002df2c5e39c2</td>\n",
              "      <td>Austin Giorgio, 21: “How Sweet It Is (To Be Loved by You)” Young crooners have appeared on singing competitions since “American</td>\n",
              "      <td>2018-03-06</td>\n",
              "      <td>Tue_Mar</td>\n",
              "    </tr>\n",
              "    <tr>\n",
              "      <th>2</th>\n",
              "      <td>QUEER VOICES</td>\n",
              "      <td>penumbra queer audio drama didnt know need</td>\n",
              "      <td>Sarah Emily Baum, ContributorFreelance Writer</td>\n",
              "      <td>https://www.huffingtonpost.com/entry/the-penumbra-is-the-queer-audio-drama-you-didnt_us_5a48f900e4b0df0de8b06b29</td>\n",
              "      <td>Young, fun, fantastical and, most notably, inclusive, the show is a must-listen for young queer people.</td>\n",
              "      <td>2018-01-05</td>\n",
              "      <td>Fri_Jan</td>\n",
              "    </tr>\n",
              "    <tr>\n",
              "      <th>3</th>\n",
              "      <td>COMEDY</td>\n",
              "      <td>opposition give trump hot lawyer</td>\n",
              "      <td>Ed Mazza</td>\n",
              "      <td>https://www.huffingtonpost.com/entry/trump-hot-lawyer_us_5af5381ee4b0e57cd9f7fe84</td>\n",
              "      <td>He's here to make a \"strong case\" for the president.</td>\n",
              "      <td>2018-05-11</td>\n",
              "      <td>Fri_May</td>\n",
              "    </tr>\n",
              "    <tr>\n",
              "      <th>4</th>\n",
              "      <td>ENTERTAINMENT</td>\n",
              "      <td>stranger things fan able visit upside irl</td>\n",
              "      <td>Elyse Wanshel</td>\n",
              "      <td>https://www.huffingtonpost.com/entry/stranger-things-fans-will-be-able-to-visit-the-upside-down-irl_us_5ac3e3a6e4b063ce2e56c26a</td>\n",
              "      <td>Hawkins is headed to Hollywood, Orlando and Singapore this fall.</td>\n",
              "      <td>2018-04-03</td>\n",
              "      <td>Tue_Apr</td>\n",
              "    </tr>\n",
              "  </tbody>\n",
              "</table>\n",
              "</div>"
            ],
            "text/plain": [
              "        category  ... day and month\n",
              "0   QUEER VOICES  ...       Mon_Apr\n",
              "1   QUEER VOICES  ...       Tue_Mar\n",
              "2   QUEER VOICES  ...       Fri_Jan\n",
              "3         COMEDY  ...       Fri_May\n",
              "4  ENTERTAINMENT  ...       Tue_Apr\n",
              "\n",
              "[5 rows x 7 columns]"
            ]
          },
          "metadata": {
            "tags": []
          },
          "execution_count": 53
        }
      ]
    },
    {
      "cell_type": "code",
      "metadata": {
        "id": "-xluAISsKNcn"
      },
      "source": [
        "headline_vectorizer = CountVectorizer()\n",
        "headline_features = headline_vectorizer.fit_transform(dataset_cp['headline'])"
      ],
      "execution_count": null,
      "outputs": []
    },
    {
      "cell_type": "code",
      "metadata": {
        "id": "gPKLEcosKNcq",
        "outputId": "ad591937-85ee-4268-e154-82182f1784d7",
        "colab": {
          "base_uri": "https://localhost:8080/",
          "height": 34
        }
      },
      "source": [
        "print(headline_features.shape)"
      ],
      "execution_count": null,
      "outputs": [
        {
          "output_type": "stream",
          "text": [
            "(8485, 11122)\n"
          ],
          "name": "stdout"
        }
      ]
    },
    {
      "cell_type": "code",
      "metadata": {
        "id": "Lwsu-rDKKNcs"
      },
      "source": [
        "pd.set_option('display.max_colwidth', None) "
      ],
      "execution_count": null,
      "outputs": []
    },
    {
      "cell_type": "code",
      "metadata": {
        "id": "U0GLVIEoKNcv"
      },
      "source": [
        "def bag_of_words(row_index,sim_items):\n",
        "    couple_dist = pairwise_distances(headline_features,headline_features[sim_items])\n",
        "    indices = np.argsort(couple_dist.ravel())[0:sim_items]\n",
        "    df = pd.DataFrame({'publish_date':dataset['date'][indices].values,\n",
        "                      'headline':dataset['headline'][indices].values,\n",
        "                      'similarity':couple_dist[indices].ravel()})\n",
        "    print(\"-\"*30,\"Queried article details \",\"-\"*30)\n",
        "    print(\"The headline is \",dataset['headline'][indices[0]])\n",
        "    print(\"\\n\",\"=\"*25,\"Recommended articles : \",\"=\"*23)\n",
        "    return df.iloc[1:,]"
      ],
      "execution_count": null,
      "outputs": []
    },
    {
      "cell_type": "code",
      "metadata": {
        "id": "3-cfEt4JKNcy",
        "outputId": "0223f3cf-b825-4358-8d5c-4ca4d475e4f7",
        "colab": {
          "base_uri": "https://localhost:8080/",
          "height": 410
        }
      },
      "source": [
        "bag_of_words(133,11)"
      ],
      "execution_count": null,
      "outputs": [
        {
          "output_type": "stream",
          "text": [
            "------------------------------ Queried article details  ------------------------------\n",
            "The headline is  ‘RuPaul’s Drag Race All Stars 3’ Episode 6 Recap: Which Queen Returned To The Competition?\n",
            "\n",
            " ========================= Recommended articles :  =======================\n"
          ],
          "name": "stdout"
        },
        {
          "output_type": "execute_result",
          "data": {
            "text/html": [
              "<div>\n",
              "<style scoped>\n",
              "    .dataframe tbody tr th:only-of-type {\n",
              "        vertical-align: middle;\n",
              "    }\n",
              "\n",
              "    .dataframe tbody tr th {\n",
              "        vertical-align: top;\n",
              "    }\n",
              "\n",
              "    .dataframe thead th {\n",
              "        text-align: right;\n",
              "    }\n",
              "</style>\n",
              "<table border=\"1\" class=\"dataframe\">\n",
              "  <thead>\n",
              "    <tr style=\"text-align: right;\">\n",
              "      <th></th>\n",
              "      <th>publish_date</th>\n",
              "      <th>headline</th>\n",
              "      <th>similarity</th>\n",
              "    </tr>\n",
              "  </thead>\n",
              "  <tbody>\n",
              "    <tr>\n",
              "      <th>1</th>\n",
              "      <td>2018-03-16</td>\n",
              "      <td>'RuPaul's Drag Race All Stars 3' Episode 8 Recap: Which Queen Snatched The Crown?</td>\n",
              "      <td>2.000000</td>\n",
              "    </tr>\n",
              "    <tr>\n",
              "      <th>2</th>\n",
              "      <td>2018-02-02</td>\n",
              "      <td>‘RuPaul’s Drag Race All Stars 3’ Episode 2 Recap: Sour Milk</td>\n",
              "      <td>2.236068</td>\n",
              "    </tr>\n",
              "    <tr>\n",
              "      <th>3</th>\n",
              "      <td>2018-02-12</td>\n",
              "      <td>‘RuPaul’s Drag Race All Stars 3’ Episode 3 Recap: Who Won The Bitchelor's Heart?</td>\n",
              "      <td>2.236068</td>\n",
              "    </tr>\n",
              "    <tr>\n",
              "      <th>4</th>\n",
              "      <td>2018-02-16</td>\n",
              "      <td>‘RuPaul’s Drag Race All Stars 3’ Episode 4 Recap: Who Won Snatch Game?</td>\n",
              "      <td>2.236068</td>\n",
              "    </tr>\n",
              "    <tr>\n",
              "      <th>5</th>\n",
              "      <td>2018-01-29</td>\n",
              "      <td>‘RuPaul’s Drag Race All Stars 3’ Episode 1 Recap: Which Queen Went Home First?</td>\n",
              "      <td>2.236068</td>\n",
              "    </tr>\n",
              "    <tr>\n",
              "      <th>6</th>\n",
              "      <td>2018-03-09</td>\n",
              "      <td>‘RuPaul’s Drag Race All Stars 3’ Episode 7 Recap: We Can Never Go Back To Before</td>\n",
              "      <td>2.449490</td>\n",
              "    </tr>\n",
              "    <tr>\n",
              "      <th>7</th>\n",
              "      <td>2018-02-23</td>\n",
              "      <td>‘RuPaul’s Drag Race All Stars 3’ Episode 5 Recap: The Warhol Ball Crowns One Pop Art Queen</td>\n",
              "      <td>2.828427</td>\n",
              "    </tr>\n",
              "    <tr>\n",
              "      <th>8</th>\n",
              "      <td>2018-03-08</td>\n",
              "      <td>'RuPaul's Drag Race' Reveals Guest Judges, Stars For Season 10</td>\n",
              "      <td>3.162278</td>\n",
              "    </tr>\n",
              "    <tr>\n",
              "      <th>9</th>\n",
              "      <td>2018-03-16</td>\n",
              "      <td>Trixie Mattel Sounds Off On Shocking 'RuPaul's Drag Race All Stars' Win</td>\n",
              "      <td>3.162278</td>\n",
              "    </tr>\n",
              "    <tr>\n",
              "      <th>10</th>\n",
              "      <td>2018-01-18</td>\n",
              "      <td>'RuPaul's Drag Race' Stars Open Up About Mental Health And The Toll Of Superstardom</td>\n",
              "      <td>3.162278</td>\n",
              "    </tr>\n",
              "  </tbody>\n",
              "</table>\n",
              "</div>"
            ],
            "text/plain": [
              "   publish_date  ... similarity\n",
              "1    2018-03-16  ...   2.000000\n",
              "2    2018-02-02  ...   2.236068\n",
              "3    2018-02-12  ...   2.236068\n",
              "4    2018-02-16  ...   2.236068\n",
              "5    2018-01-29  ...   2.236068\n",
              "6    2018-03-09  ...   2.449490\n",
              "7    2018-02-23  ...   2.828427\n",
              "8    2018-03-08  ...   3.162278\n",
              "9    2018-03-16  ...   3.162278\n",
              "10   2018-01-18  ...   3.162278\n",
              "\n",
              "[10 rows x 3 columns]"
            ]
          },
          "metadata": {
            "tags": []
          },
          "execution_count": 58
        }
      ]
    },
    {
      "cell_type": "code",
      "metadata": {
        "id": "f4tdHEYQKNc1"
      },
      "source": [
        "tfidfvect = TfidfVectorizer(min_df=0)\n",
        "tfidf_headline_features = tfidfvect.fit_transform(dataset_cp['headline'])\n"
      ],
      "execution_count": null,
      "outputs": []
    },
    {
      "cell_type": "code",
      "metadata": {
        "id": "CcUsQgWZKNc3",
        "outputId": "aa77e017-5e6a-4131-a2d6-80e1f7bbbbc0",
        "colab": {
          "base_uri": "https://localhost:8080/",
          "height": 410
        }
      },
      "source": [
        "def tfidf_based_model(row_index, num_similar_items):\n",
        "    couple_dist = pairwise_distances(tfidf_headline_features,tfidf_headline_features[row_index])\n",
        "    indices = np.argsort(couple_dist.ravel())[0:num_similar_items]\n",
        "    df = pd.DataFrame({'publish_date': dataset['date'][indices].values,\n",
        "               'headline':dataset['headline'][indices].values,\n",
        "                'Euclidean similarity with the queried article': couple_dist[indices].ravel()})\n",
        "    print(\"=\"*30,\"Queried article details\",\"=\"*30)\n",
        "    print('headline : ',dataset['headline'][indices[0]])\n",
        "    print(\"\\n\",\"=\"*25,\"Recommended articles : \",\"=\"*23)\n",
        "    \n",
        "    return df.iloc[1:,]\n",
        "tfidf_based_model(132, 11)"
      ],
      "execution_count": null,
      "outputs": [
        {
          "output_type": "stream",
          "text": [
            "============================== Queried article details ==============================\n",
            "headline :  Woman Given 5 Years In Prison For Illegally Voting Says She Didn't Know She Was Ineligible\n",
            "\n",
            " ========================= Recommended articles :  =======================\n"
          ],
          "name": "stdout"
        },
        {
          "output_type": "execute_result",
          "data": {
            "text/html": [
              "<div>\n",
              "<style scoped>\n",
              "    .dataframe tbody tr th:only-of-type {\n",
              "        vertical-align: middle;\n",
              "    }\n",
              "\n",
              "    .dataframe tbody tr th {\n",
              "        vertical-align: top;\n",
              "    }\n",
              "\n",
              "    .dataframe thead th {\n",
              "        text-align: right;\n",
              "    }\n",
              "</style>\n",
              "<table border=\"1\" class=\"dataframe\">\n",
              "  <thead>\n",
              "    <tr style=\"text-align: right;\">\n",
              "      <th></th>\n",
              "      <th>publish_date</th>\n",
              "      <th>headline</th>\n",
              "      <th>Euclidean similarity with the queried article</th>\n",
              "    </tr>\n",
              "  </thead>\n",
              "  <tbody>\n",
              "    <tr>\n",
              "      <th>1</th>\n",
              "      <td>2018-04-05</td>\n",
              "      <td>Trump Claims Without Evidence That Millions Of People Are Voting Illegally In California</td>\n",
              "      <td>1.211374</td>\n",
              "    </tr>\n",
              "    <tr>\n",
              "      <th>2</th>\n",
              "      <td>2018-04-05</td>\n",
              "      <td>Donald Trump Says He Didn't Know About Stormy Daniels Payment</td>\n",
              "      <td>1.216741</td>\n",
              "    </tr>\n",
              "    <tr>\n",
              "      <th>3</th>\n",
              "      <td>2018-02-23</td>\n",
              "      <td>6 Things You Didn't Know About Michael B. Jordan</td>\n",
              "      <td>1.231291</td>\n",
              "    </tr>\n",
              "    <tr>\n",
              "      <th>4</th>\n",
              "      <td>2018-02-16</td>\n",
              "      <td>Zendaya Wants You To Know She Didn’t Give Blake Lively The Side-Eye</td>\n",
              "      <td>1.238326</td>\n",
              "    </tr>\n",
              "    <tr>\n",
              "      <th>5</th>\n",
              "      <td>2018-03-11</td>\n",
              "      <td>Trump Brags That He Won Most Of The Women's Vote In 2016. He Didn't.</td>\n",
              "      <td>1.248094</td>\n",
              "    </tr>\n",
              "    <tr>\n",
              "      <th>6</th>\n",
              "      <td>2018-01-22</td>\n",
              "      <td>Pennsylvania Supreme Court Strikes Down State's Congressional Map, Saying It Illegally Benefits GOP</td>\n",
              "      <td>1.266391</td>\n",
              "    </tr>\n",
              "    <tr>\n",
              "      <th>7</th>\n",
              "      <td>2018-05-18</td>\n",
              "      <td>Bill Gates Says Trump Didn't Know The Difference Between HPV And HIV</td>\n",
              "      <td>1.267833</td>\n",
              "    </tr>\n",
              "    <tr>\n",
              "      <th>8</th>\n",
              "      <td>2018-05-07</td>\n",
              "      <td>Connecticut To Give Its Electoral College Votes To National Popular Vote Victor</td>\n",
              "      <td>1.269602</td>\n",
              "    </tr>\n",
              "    <tr>\n",
              "      <th>9</th>\n",
              "      <td>2018-03-22</td>\n",
              "      <td>Innocent Man Awarded $1 Million After Spending 31 Years In Prison</td>\n",
              "      <td>1.273952</td>\n",
              "    </tr>\n",
              "    <tr>\n",
              "      <th>10</th>\n",
              "      <td>2018-02-09</td>\n",
              "      <td>Omarosa Turns On Trump: Wouldn't Vote For Him Again 'In A Million Years'</td>\n",
              "      <td>1.276054</td>\n",
              "    </tr>\n",
              "  </tbody>\n",
              "</table>\n",
              "</div>"
            ],
            "text/plain": [
              "   publish_date  ... Euclidean similarity with the queried article\n",
              "1    2018-04-05  ...                                      1.211374\n",
              "2    2018-04-05  ...                                      1.216741\n",
              "3    2018-02-23  ...                                      1.231291\n",
              "4    2018-02-16  ...                                      1.238326\n",
              "5    2018-03-11  ...                                      1.248094\n",
              "6    2018-01-22  ...                                      1.266391\n",
              "7    2018-05-18  ...                                      1.267833\n",
              "8    2018-05-07  ...                                      1.269602\n",
              "9    2018-03-22  ...                                      1.273952\n",
              "10   2018-02-09  ...                                      1.276054\n",
              "\n",
              "[10 rows x 3 columns]"
            ]
          },
          "metadata": {
            "tags": []
          },
          "execution_count": 61
        }
      ]
    },
    {
      "cell_type": "code",
      "metadata": {
        "id": "9shKzP2FeRP-"
      },
      "source": [
        ""
      ],
      "execution_count": null,
      "outputs": []
    }
  ]
}